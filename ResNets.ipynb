{
  "nbformat": 4,
  "nbformat_minor": 0,
  "metadata": {
    "colab": {
      "provenance": [],
      "authorship_tag": "ABX9TyPmOSjy+fVyjwasBCc7PWJb",
      "include_colab_link": true
    },
    "kernelspec": {
      "name": "python3",
      "display_name": "Python 3"
    },
    "language_info": {
      "name": "python"
    }
  },
  "cells": [
    {
      "cell_type": "markdown",
      "metadata": {
        "id": "view-in-github",
        "colab_type": "text"
      },
      "source": [
        "<a href=\"https://colab.research.google.com/github/Mohammed-khair/ResNet/blob/main/ResNets.ipynb\" target=\"_parent\"><img src=\"https://colab.research.google.com/assets/colab-badge.svg\" alt=\"Open In Colab\"/></a>"
      ]
    },
    {
      "cell_type": "code",
      "source": [
        "!git clone https://github.com/Mohammed-khair/ResNet.git"
      ],
      "metadata": {
        "colab": {
          "base_uri": "https://localhost:8080/"
        },
        "id": "CQhk6UvoRHzt",
        "outputId": "0d5ecf53-dff3-4edc-b00f-32d73dd7963b"
      },
      "execution_count": null,
      "outputs": [
        {
          "output_type": "stream",
          "name": "stdout",
          "text": [
            "Cloning into 'ResNet'...\n",
            "remote: Enumerating objects: 17, done.\u001b[K\n",
            "remote: Counting objects: 100% (17/17), done.\u001b[K\n",
            "remote: Compressing objects: 100% (14/14), done.\u001b[K\n",
            "remote: Total 17 (delta 1), reused 0 (delta 0), pack-reused 0\u001b[K\n",
            "Receiving objects: 100% (17/17), 4.54 KiB | 4.54 MiB/s, done.\n",
            "Resolving deltas: 100% (1/1), done.\n"
          ]
        }
      ]
    },
    {
      "cell_type": "markdown",
      "source": [
        "# Residual Networks\n",
        "\n"
      ],
      "metadata": {
        "id": "ExqrhEdVDqtR"
      }
    },
    {
      "cell_type": "markdown",
      "source": [
        "This project was done as an excercise in the following course [Coursera: Convolutional neural network](https://www.coursera.org/learn/convolutional-neural-networks)"
      ],
      "metadata": {
        "id": "o6ox9GzWFem_"
      }
    },
    {
      "cell_type": "markdown",
      "source": [
        "In this notebook, we will be building ResNets as introduced by [He et al.](https://arxiv.org/pdf/1512.03385.pdf). ResNets are very deep convolutional nueral networks that can learn very complex functions. However, they are very hard to train and will require a GPU to run.\n",
        "* On google colab, you can enable GPU from `runtime -> change runtime resources -> Hardware Accelerator: GPU `"
      ],
      "metadata": {
        "id": "0tWv-_1tDwHg"
      }
    },
    {
      "cell_type": "markdown",
      "source": [
        "In particular, we will do the following:\n",
        "- Implement the basic building blocks of ResNets in a deep neural network using Keras\n",
        "- Put together these building blocks to implement and train a state-of-the-art neural network for image classification\n",
        "- Implement a skip connection in your network"
      ],
      "metadata": {
        "id": "ZCmIxjgsFcgA"
      }
    },
    {
      "cell_type": "markdown",
      "source": [
        "### Problems with very deep neural networks\n",
        "* **Vanishing Gradient Problem:** In very deep neural networks, during backpropagation, gradients can become extremely small as they propagate backward through many layers. This makes it challenging for the lower layers to update their weights effectively, leading to slow or stalled learning.\n",
        "* **Exploding Gradient Problem:** Conversely, gradients can also become very large, causing weight updates to be too drastic. This may lead to unstable training and cause the model to diverge.\n",
        "* **Overfitting:** Deeper networks tend to have a higher capacity to memorize the training data, making them more prone to overfitting, especially when training data is limited\n",
        "\n",
        "Residual Blocks help solve these problems"
      ],
      "metadata": {
        "id": "1bcAN_d3Hsqq"
      }
    },
    {
      "cell_type": "markdown",
      "source": [
        "Let us start with the imports"
      ],
      "metadata": {
        "id": "526kpxHBGeDA"
      }
    },
    {
      "cell_type": "code",
      "source": [
        "import tensorflow as tf\n",
        "import numpy as np\n",
        "import scipy.misc\n",
        "from tensorflow.keras.applications.resnet_v2 import ResNet50V2\n",
        "from tensorflow.keras.preprocessing import image\n",
        "from tensorflow.keras.applications.resnet_v2 import preprocess_input, decode_predictions\n",
        "from tensorflow.keras import layers\n",
        "from tensorflow.keras.layers import Input, Add, Dense, Activation, ZeroPadding2D, BatchNormalization, Flatten, Conv2D, AveragePooling2D, MaxPooling2D, GlobalMaxPooling2D\n",
        "from tensorflow.keras.models import Model, load_model\n",
        "from tensorflow.keras.initializers import random_uniform, glorot_uniform, constant, identity\n",
        "from tensorflow.python.framework.ops import EagerTensor\n",
        "from matplotlib.pyplot import imshow\n",
        "from tensorflow.keras.layers import Input\n",
        "import h5py\n",
        "import matplotlib.pyplot as plt\n",
        "\n"
      ],
      "metadata": {
        "id": "sGYRC3kOGhFU"
      },
      "execution_count": 1,
      "outputs": []
    },
    {
      "cell_type": "markdown",
      "source": [
        "### Residual Blocks\n",
        "Residual blocks or \"skip connection\" allows the model to skip layers. This shortcut makes it very easy for one of the blocks to learn an identity function. Thus, stacking up many blocks will do little to hurt the performance of the network.\n",
        "There are two types of blocks: **identity block** and the **convolutional block**."
      ],
      "metadata": {
        "id": "FPFc6q8EIVoS"
      }
    },
    {
      "cell_type": "markdown",
      "source": [
        "### **Identity Block**\n",
        "In the identity block, input activation has the same dimension as the output activation. Here is the architecture of the identity block.\n",
        "\n",
        "*input* &rarr; Conv2D &rarr; Batch Norm &rarr; ReLU &rarr;&rarr; Conv2D &rarr; Batch Norm &rarr; ReLU &rarr;&rarr; Conv2D &rarr; Batch Norm &rarr;&rarr; ReLU(add output to *input*)\n",
        "\n"
      ],
      "metadata": {
        "id": "ligAsXmoOjiC"
      }
    },
    {
      "cell_type": "code",
      "source": [
        "def identity_block(X, f, filters, training=True, initializer=random_uniform):\n",
        "    \"\"\"\n",
        "    Implementation of the identity block as defined in Figure 4\n",
        "\n",
        "    Arguments:\n",
        "    X -- input tensor of shape (m, n_H_prev, n_W_prev, n_C_prev)\n",
        "    f -- integer, specifying the shape of the middle CONV's window for the main path\n",
        "    filters -- python list of integers, defining the number of filters in the CONV layers of the main path\n",
        "    training -- True: Behave in training mode\n",
        "                False: Behave in inference mode\n",
        "    initializer -- to set up the initial weights of a layer. Equals to random uniform initializer\n",
        "\n",
        "    Returns:\n",
        "    X -- output of the identity block, tensor of shape (m, n_H, n_W, n_C)\n",
        "    \"\"\"\n",
        "\n",
        "    # Retrieve Filters\n",
        "    F1, F2, F3 = filters\n",
        "\n",
        "    # Save the input value. You'll need this later to add back to the main path.\n",
        "    X_shortcut = X\n",
        "\n",
        "    # First component of main path\n",
        "    X = Conv2D(filters = F1, kernel_size = 1, strides = (1,1), padding = 'valid', kernel_initializer = initializer(seed=0))(X)\n",
        "    X = BatchNormalization(axis = 3)(X, training = training)\n",
        "    X = Activation('relu')(X)\n",
        "\n",
        "    ## Second component of main path\n",
        "    X = Conv2D(filters = F2, kernel_size = (f, f), strides = (1, 1), padding = 'same', kernel_initializer = initializer(seed=0))(X)\n",
        "    X = BatchNormalization(axis = 3)(X, training = training)\n",
        "    X = Activation('relu')(X)\n",
        "\n",
        "    ## Third component of main path\n",
        "    X = Conv2D(filters = F3, kernel_size = 1, strides = (1,1), padding = 'valid', kernel_initializer = initializer(seed=0))(X)\n",
        "    X = BatchNormalization(axis = 3)(X, training = training)\n",
        "\n",
        "    ## Final step: Add shortcut value to main path, and pass it through a RELU activation\n",
        "    X = tf.add(X, X_shortcut)\n",
        "    X = Activation('relu')(X)\n",
        "\n",
        "    return X"
      ],
      "metadata": {
        "id": "h6qi-9J22PBR"
      },
      "execution_count": 2,
      "outputs": []
    },
    {
      "cell_type": "markdown",
      "source": [
        "### The Convolutional Block\n",
        "The convolutional block is used when the input and output dimensions don't match up. Unlike the identity block, the convolutional block has a CONV2D layer in the shortcut path.\n",
        "\n",
        "main path:\n",
        "*input* &rarr; Conv2D &rarr; Batch Norm &rarr; ReLU &rarr;&rarr; Conv2D &rarr; Batch Norm &rarr; ReLU &rarr;&rarr; Conv2D &rarr; Batch Norm &rarr;&rarr; First output\n",
        "\n",
        "Shortcut path:\n",
        "*input* &rarr; Conv2D &rarr; Batch Norm &rarr; second output\n",
        "\n",
        "The final output is the addition of the first and second output\n",
        "\n",
        "\n"
      ],
      "metadata": {
        "id": "DA8icbmz2n6m"
      }
    },
    {
      "cell_type": "code",
      "source": [
        "def convolutional_block(X, f, filters, s = 2, training=True, initializer=glorot_uniform):\n",
        "    \"\"\"\n",
        "    Implementation of the convolutional block as defined in Figure 4\n",
        "\n",
        "    Arguments:\n",
        "    X -- input tensor of shape (m, n_H_prev, n_W_prev, n_C_prev)\n",
        "    f -- integer, specifying the shape of the middle CONV's window for the main path\n",
        "    filters -- python list of integers, defining the number of filters in the CONV layers of the main path\n",
        "    s -- Integer, specifying the stride to be used\n",
        "    training -- True: Behave in training mode\n",
        "                False: Behave in inference mode\n",
        "    initializer -- to set up the initial weights of a layer. Equals to Glorot uniform initializer,\n",
        "                   also called Xavier uniform initializer.\n",
        "\n",
        "    Returns:\n",
        "    X -- output of the convolutional block, tensor of shape (m, n_H, n_W, n_C)\n",
        "    \"\"\"\n",
        "\n",
        "    # Retrieve Filters\n",
        "    F1, F2, F3 = filters\n",
        "\n",
        "    # Save the input value\n",
        "    X_shortcut = X\n",
        "\n",
        "    # First component of main path glorot_uniform\n",
        "    X = Conv2D(filters = F1, kernel_size = 1, strides = (s, s), padding='valid', kernel_initializer = initializer(seed=0))(X)\n",
        "    X = BatchNormalization(axis = 3)(X, training=training)\n",
        "    X = Activation('relu')(X)\n",
        "\n",
        "    ## Second component of main path\n",
        "    X = Conv2D(filters = F2, kernel_size = (f, f), strides = (1, 1), padding = 'same', kernel_initializer = initializer(seed=0))(X)\n",
        "    X = BatchNormalization(axis = 3)(X, training = training)\n",
        "    X = Activation('relu')(X)\n",
        "\n",
        "    ## Third component of main path\n",
        "    X = Conv2D(filters = F3, kernel_size = 1, strides = (1,1), padding = 'valid', kernel_initializer = initializer(seed=0))(X)\n",
        "    X = BatchNormalization(axis = 3)(X, training = training)\n",
        "\n",
        "    # Shortcut path\n",
        "    X_shortcut = Conv2D(filters = F3, kernel_size = 1, strides = (s,s), padding = 'valid', kernel_initializer = initializer(seed=0))(X_shortcut)\n",
        "    X_shortcut = BatchNormalization(axis = 3)(X_shortcut, training=training)\n",
        "\n",
        "    # Final step: Add shortcut value to main path, and pass it through a RELU activation\n",
        "    X = Add()([X, X_shortcut])\n",
        "    X = Activation('relu')(X)\n",
        "\n",
        "    return X"
      ],
      "metadata": {
        "id": "0T98qdqE9OvX"
      },
      "execution_count": 3,
      "outputs": []
    },
    {
      "cell_type": "markdown",
      "source": [
        "## Build the ResNet Model\n",
        "The details of this ResNet-50 model are:\n",
        "- Zero-padding pads the input with a pad of (3,3)\n",
        "- Stage 1:\n",
        "    - The 2D Convolution has 64 filters of shape (7,7) and uses a stride of (2,2).\n",
        "    - BatchNorm is applied to the 'channels' axis of the input.\n",
        "    - MaxPooling uses a (3,3) window and a (2,2) stride.\n",
        "- Stage 2:\n",
        "    - The convolutional block uses three sets of filters of size [64,64,256], \"f\" is 3, and \"s\" is 1.\n",
        "    - The 2 identity blocks use three sets of filters of size [64,64,256], and \"f\" is 3.\n",
        "- Stage 3:\n",
        "    - The convolutional block uses three sets of filters of size [128,128,512], \"f\" is 3 and \"s\" is 2.\n",
        "    - The 3 identity blocks use three sets of filters of size [128,128,512] and \"f\" is 3.\n",
        "- Stage 4:\n",
        "    - The convolutional block uses three sets of filters of size [256, 256, 1024], \"f\" is 3 and \"s\" is 2.\n",
        "    - The 5 identity blocks use three sets of filters of size [256, 256, 1024] and \"f\" is 3.\n",
        "- Stage 5:\n",
        "    - The convolutional block uses three sets of filters of size [512, 512, 2048], \"f\" is 3 and \"s\" is 2.\n",
        "    - The 2 identity blocks use three sets of filters of size [512, 512, 2048] and \"f\" is 3.\n",
        "- The 2D Average Pooling uses a window of shape (2,2).\n",
        "- The 'flatten' layer doesn't have any hyperparameters.\n",
        "- The Fully Connected (Dense) layer reduces its input to the number of classes using a softmax activation.\n"
      ],
      "metadata": {
        "id": "i43u6lxuM3-l"
      }
    },
    {
      "cell_type": "code",
      "source": [
        "def ResNet50(input_shape = (64, 64, 3), classes = 6):\n",
        "    \"\"\"\n",
        "    Stage-wise implementation of the architecture of the popular ResNet50:\n",
        "    CONV2D -> BATCHNORM -> RELU -> MAXPOOL -> CONVBLOCK -> IDBLOCK*2 -> CONVBLOCK -> IDBLOCK*3\n",
        "    -> CONVBLOCK -> IDBLOCK*5 -> CONVBLOCK -> IDBLOCK*2 -> AVGPOOL -> FLATTEN -> DENSE\n",
        "\n",
        "    Arguments:\n",
        "    input_shape -- shape of the images of the dataset\n",
        "    classes -- integer, number of classes\n",
        "\n",
        "    Returns:\n",
        "    model -- a Model() instance in Keras\n",
        "    \"\"\"\n",
        "\n",
        "    # Define the input as a tensor with shape input_shape\n",
        "    X_input = Input(input_shape)\n",
        "\n",
        "\n",
        "    # Zero-Padding\n",
        "    X = ZeroPadding2D((3, 3))(X_input)\n",
        "\n",
        "    # Stage 1\n",
        "    X = Conv2D(64, (7, 7), strides = (2, 2), kernel_initializer = glorot_uniform(seed=0))(X)\n",
        "    X = BatchNormalization(axis = 3)(X)\n",
        "    X = Activation('relu')(X)\n",
        "    X = MaxPooling2D((3, 3), strides=(2, 2))(X)\n",
        "\n",
        "    # Stage 2\n",
        "    X = convolutional_block(X, f = 3, filters = [64, 64, 256], s = 1)\n",
        "    X = identity_block(X, 3, [64, 64, 256])\n",
        "    X = identity_block(X, 3, [64, 64, 256])\n",
        "\n",
        "    ## Stage 3\n",
        "    # `convolutional_block`\n",
        "    X = convolutional_block(X, f = 3, filters = [128,128,512], s = 2)\n",
        "\n",
        "    # the 3 `identity_block`\n",
        "    X = identity_block(X, 3, [128,128,512])\n",
        "    X = identity_block(X, 3, [128,128,512])\n",
        "    X = identity_block(X, 3, [128,128,512])\n",
        "\n",
        "    # Stage 4\n",
        "    # add `convolutional_block`\n",
        "    X = convolutional_block(X, f = 3, filters = [256,256,1024], s = 2)\n",
        "\n",
        "    # the 5 `identity_block`\n",
        "    X = identity_block(X, 3, [256,256,1024])\n",
        "    X = identity_block(X, 3, [256,256,1024])\n",
        "    X = identity_block(X, 3, [256,256,1024])\n",
        "    X = identity_block(X, 3, [256,256,1024])\n",
        "    X = identity_block(X, 3, [256,256,1024])\n",
        "\n",
        "    # Stage 5\n",
        "    # add `convolutional_block`\n",
        "    X = convolutional_block(X, f = 3, filters = [512, 512, 2048], s = 2)\n",
        "\n",
        "    # the 2 `identity_block`\n",
        "    X = identity_block(X, 3, [512, 512, 2048])\n",
        "    X = identity_block(X, 3, [512, 512, 2048])\n",
        "\n",
        "    # AVGPOOL\n",
        "    X = AveragePooling2D(pool_size=(2, 2))(X)\n",
        "\n",
        "    # output layer\n",
        "    X = Flatten()(X)\n",
        "    X = Dense(classes, activation='softmax', kernel_initializer = glorot_uniform(seed=0))(X)\n",
        "\n",
        "    # Create model\n",
        "    model = Model(inputs = X_input, outputs = X)\n",
        "\n",
        "    return model"
      ],
      "metadata": {
        "id": "tw32JFR3ROvm"
      },
      "execution_count": 4,
      "outputs": []
    },
    {
      "cell_type": "markdown",
      "source": [
        "Compile the model\n"
      ],
      "metadata": {
        "id": "vUh3Ne0YRael"
      }
    },
    {
      "cell_type": "code",
      "source": [
        "model = ResNet50(input_shape = (64, 64, 3), classes = 6)\n",
        "model.compile(optimizer='adam', loss='categorical_crossentropy', metrics=['accuracy'])"
      ],
      "metadata": {
        "id": "EFM72C9Ppz8n"
      },
      "execution_count": 5,
      "outputs": []
    },
    {
      "cell_type": "markdown",
      "source": [
        "### Load the Data and Split the Data into Train/Test Sets"
      ],
      "metadata": {
        "id": "O9h41pN1rq2H"
      }
    },
    {
      "cell_type": "code",
      "source": [
        "#Load the training set\n",
        "train_dataset = h5py.File('/content/train_signs.h5', \"r\")\n",
        "X_train_orig = np.array(train_dataset[\"train_set_x\"][:]) # your train set features\n",
        "Y_train_orig = np.array(train_dataset[\"train_set_y\"][:]) # your train set labels\n",
        "\n",
        "#Load the testing set\n",
        "test_dataset = h5py.File('/content/test_signs.h5', \"r\")\n",
        "X_test_orig = np.array(test_dataset[\"test_set_x\"][:]) # your test set features\n",
        "Y_test_orig = np.array(test_dataset[\"test_set_y\"][:]) # your test set labels\n",
        "\n",
        "#Load the list of classes\n",
        "classes = np.array(test_dataset[\"list_classes\"][:]) # the list of classes"
      ],
      "metadata": {
        "id": "AKBli-CKrN7A"
      },
      "execution_count": 8,
      "outputs": []
    },
    {
      "cell_type": "markdown",
      "source": [
        "View 6 examples of the data"
      ],
      "metadata": {
        "id": "1kNvwGDdrrZp"
      }
    },
    {
      "cell_type": "code",
      "source": [
        "# Number of images you want to display\n",
        "num_images_to_display = 6\n",
        "\n",
        "# Randomly select six images from the list\n",
        "images_list = X_train_orig[:num_images_to_display]\n",
        "\n",
        "# Create a subplot grid to display multiple images\n",
        "rows = 2  # Number of rows in the grid\n",
        "cols = 3  # Number of columns in the grid\n",
        "\n",
        "# Create a figure and axes using matplotlib\n",
        "fig, axes = plt.subplots(rows, cols, figsize=(10, 6))\n",
        "\n",
        "# Flatten the axes array to iterate through the subplots easily\n",
        "axes = axes.flatten()\n",
        "\n",
        "# Loop through the images and display them on the subplots\n",
        "for i, image_array in enumerate(images_list):\n",
        "    axes[i].imshow(image_array)\n",
        "    axes[i].axis('off')  # Turn off axis ticks and labels for cleaner display\n",
        "\n",
        "# Adjust the layout to avoid overlapping and improve visualization\n",
        "plt.tight_layout()\n",
        "\n",
        "# Show the plot with all the images\n",
        "plt.show()"
      ],
      "metadata": {
        "colab": {
          "base_uri": "https://localhost:8080/",
          "height": 607
        },
        "id": "ZnzDPNnfrpoJ",
        "outputId": "95e06b12-9295-4ba8-9cfd-75e31e26c4f8"
      },
      "execution_count": 9,
      "outputs": [
        {
          "output_type": "display_data",
          "data": {
            "text/plain": [
              "<Figure size 1000x600 with 6 Axes>"
            ],
            "image/png": "[encoded data removed]"
          },
          "metadata": {}
        }
      ]
    },
    {
      "cell_type": "markdown",
      "source": [
        "Normalize the input image vectors and reshape the output vectors"
      ],
      "metadata": {
        "id": "xNC1I7BbsELm"
      }
    },
    {
      "cell_type": "code",
      "source": [
        "# Normalize image vectors\n",
        "X_train = X_train_orig/255.\n",
        "X_test = X_test_orig/255.\n",
        "\n",
        "# Determine the number of classes\n",
        "num_classes = np.max(Y_train_orig) + 1\n",
        "\n",
        "# One-hot encode the y dataset\n",
        "Y_train = np.eye(num_classes)[Y_train_orig]\n",
        "Y_test = np.eye(num_classes)[Y_test_orig]"
      ],
      "metadata": {
        "id": "TTa7ctMSsEzX"
      },
      "execution_count": 10,
      "outputs": []
    },
    {
      "cell_type": "markdown",
      "source": [
        "Print the shape of the training sets"
      ],
      "metadata": {
        "id": "b0080TJksPeX"
      }
    },
    {
      "cell_type": "code",
      "source": [
        "print (\"number of training examples = \" + str(X_train.shape[0]))\n",
        "print (\"number of test examples = \" + str(X_test.shape[0]))\n",
        "print (\"X_train shape: \" + str(X_train.shape))\n",
        "print (\"Y_train shape: \" + str(Y_train.shape))\n",
        "print (\"X_test shape: \" + str(X_test.shape))\n",
        "print (\"Y_test shape: \" + str(Y_test.shape))"
      ],
      "metadata": {
        "colab": {
          "base_uri": "https://localhost:8080/"
        },
        "id": "iUrV862JsR2f",
        "outputId": "2c3f27a6-e338-4364-fc55-f0251eb2db33"
      },
      "execution_count": 11,
      "outputs": [
        {
          "output_type": "stream",
          "name": "stdout",
          "text": [
            "number of training examples = 1080\n",
            "number of test examples = 120\n",
            "X_train shape: (1080, 64, 64, 3)\n",
            "Y_train shape: (1080, 6)\n",
            "X_test shape: (120, 64, 64, 3)\n",
            "Y_test shape: (120, 6)\n"
          ]
        }
      ]
    },
    {
      "cell_type": "markdown",
      "source": [
        "## Fit the Model"
      ],
      "metadata": {
        "id": "srcQ9d0zs4Kf"
      }
    },
    {
      "cell_type": "code",
      "source": [
        "model.fit(X_train, Y_train, epochs = 10, batch_size = 32)"
      ],
      "metadata": {
        "colab": {
          "base_uri": "https://localhost:8080/"
        },
        "id": "utUpKZg8s6Zf",
        "outputId": "d7837c9f-e074-42ff-eb66-4fcd07cb7531"
      },
      "execution_count": 12,
      "outputs": [
        {
          "output_type": "stream",
          "name": "stdout",
          "text": [
            "Epoch 1/10\n",
            "34/34 [==============================] - 197s 5s/step - loss: 2.1076 - accuracy: 0.4389\n",
            "Epoch 2/10\n",
            "34/34 [==============================] - 177s 5s/step - loss: 1.0041 - accuracy: 0.6750\n",
            "Epoch 3/10\n",
            "34/34 [==============================] - 181s 5s/step - loss: 0.7115 - accuracy: 0.7620\n",
            "Epoch 4/10\n",
            "34/34 [==============================] - 189s 6s/step - loss: 0.3941 - accuracy: 0.8602\n",
            "Epoch 5/10\n",
            "34/34 [==============================] - 180s 5s/step - loss: 0.2364 - accuracy: 0.9148\n",
            "Epoch 6/10\n",
            "34/34 [==============================] - 180s 5s/step - loss: 0.1285 - accuracy: 0.9620\n",
            "Epoch 7/10\n",
            "34/34 [==============================] - 182s 5s/step - loss: 0.1030 - accuracy: 0.9741\n",
            "Epoch 8/10\n",
            "34/34 [==============================] - 185s 5s/step - loss: 0.1343 - accuracy: 0.9574\n",
            "Epoch 9/10\n",
            "34/34 [==============================] - 189s 6s/step - loss: 0.0791 - accuracy: 0.9676\n",
            "Epoch 10/10\n",
            "34/34 [==============================] - 183s 5s/step - loss: 0.1051 - accuracy: 0.9657\n"
          ]
        },
        {
          "output_type": "execute_result",
          "data": {
            "text/plain": [
              "<keras.callbacks.History at 0x7da17c411330>"
            ]
          },
          "metadata": {},
          "execution_count": 12
        }
      ]
    },
    {
      "cell_type": "markdown",
      "source": [
        "lets print the accuracy of the model"
      ],
      "metadata": {
        "id": "IdcyGJ07z5A7"
      }
    },
    {
      "cell_type": "code",
      "source": [
        "preds = model.evaluate(X_test, Y_test)\n",
        "print (\"Loss = \" + str(preds[0]))\n",
        "print (\"Test Accuracy = \" + str(preds[1]))"
      ],
      "metadata": {
        "colab": {
          "base_uri": "https://localhost:8080/"
        },
        "id": "d4oaTKYZz9Z7",
        "outputId": "3347094b-be6a-48db-e95c-fd7b79ff70d3"
      },
      "execution_count": 13,
      "outputs": [
        {
          "output_type": "stream",
          "name": "stdout",
          "text": [
            "4/4 [==============================] - 5s 559ms/step - loss: 0.2977 - accuracy: 0.9083\n",
            "Loss = 0.29766902327537537\n",
            "Test Accuracy = 0.9083333611488342\n"
          ]
        }
      ]
    },
    {
      "cell_type": "markdown",
      "source": [
        "### 90.8% Accuracy on the testing set"
      ],
      "metadata": {
        "id": "5Cvqcn4P7VW5"
      }
    }
  ]
}